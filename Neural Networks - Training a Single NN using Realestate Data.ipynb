{
 "cells": [
  {
   "cell_type": "markdown",
   "metadata": {},
   "source": [
    "# Training a Single Neuron "
   ]
  },
  {
   "cell_type": "code",
   "execution_count": 1,
   "metadata": {},
   "outputs": [],
   "source": [
    "import pandas as pd\n",
    "import numpy as np"
   ]
  },
  {
   "cell_type": "code",
   "execution_count": 2,
   "metadata": {},
   "outputs": [],
   "source": [
    "import seaborn as sb"
   ]
  },
  {
   "cell_type": "code",
   "execution_count": 3,
   "metadata": {},
   "outputs": [],
   "source": [
    "df = pd.read_csv(\"realestate.csv\")"
   ]
  },
  {
   "cell_type": "code",
   "execution_count": 4,
   "metadata": {},
   "outputs": [
    {
     "data": {
      "text/html": [
       "<div>\n",
       "<style scoped>\n",
       "    .dataframe tbody tr th:only-of-type {\n",
       "        vertical-align: middle;\n",
       "    }\n",
       "\n",
       "    .dataframe tbody tr th {\n",
       "        vertical-align: top;\n",
       "    }\n",
       "\n",
       "    .dataframe thead th {\n",
       "        text-align: right;\n",
       "    }\n",
       "</style>\n",
       "<table border=\"1\" class=\"dataframe\">\n",
       "  <thead>\n",
       "    <tr style=\"text-align: right;\">\n",
       "      <th></th>\n",
       "      <th>area</th>\n",
       "      <th>rooms</th>\n",
       "      <th>floor</th>\n",
       "      <th>elev</th>\n",
       "      <th>parking</th>\n",
       "      <th>price</th>\n",
       "    </tr>\n",
       "  </thead>\n",
       "  <tbody>\n",
       "    <tr>\n",
       "      <td>0</td>\n",
       "      <td>232</td>\n",
       "      <td>11</td>\n",
       "      <td>12</td>\n",
       "      <td>0</td>\n",
       "      <td>2</td>\n",
       "      <td>2616000</td>\n",
       "    </tr>\n",
       "    <tr>\n",
       "      <td>1</td>\n",
       "      <td>249</td>\n",
       "      <td>11</td>\n",
       "      <td>5</td>\n",
       "      <td>1</td>\n",
       "      <td>2</td>\n",
       "      <td>2917000</td>\n",
       "    </tr>\n",
       "    <tr>\n",
       "      <td>2</td>\n",
       "      <td>225</td>\n",
       "      <td>10</td>\n",
       "      <td>12</td>\n",
       "      <td>1</td>\n",
       "      <td>2</td>\n",
       "      <td>2698000</td>\n",
       "    </tr>\n",
       "    <tr>\n",
       "      <td>3</td>\n",
       "      <td>51</td>\n",
       "      <td>2</td>\n",
       "      <td>7</td>\n",
       "      <td>0</td>\n",
       "      <td>2</td>\n",
       "      <td>784000</td>\n",
       "    </tr>\n",
       "    <tr>\n",
       "      <td>4</td>\n",
       "      <td>192</td>\n",
       "      <td>9</td>\n",
       "      <td>3</td>\n",
       "      <td>0</td>\n",
       "      <td>0</td>\n",
       "      <td>2075000</td>\n",
       "    </tr>\n",
       "  </tbody>\n",
       "</table>\n",
       "</div>"
      ],
      "text/plain": [
       "   area  rooms  floor  elev  parking    price\n",
       "0   232     11     12     0        2  2616000\n",
       "1   249     11      5     1        2  2917000\n",
       "2   225     10     12     1        2  2698000\n",
       "3    51      2      7     0        2   784000\n",
       "4   192      9      3     0        0  2075000"
      ]
     },
     "execution_count": 4,
     "metadata": {},
     "output_type": "execute_result"
    }
   ],
   "source": [
    "df.head()"
   ]
  },
  {
   "cell_type": "code",
   "execution_count": 5,
   "metadata": {},
   "outputs": [
    {
     "name": "stdout",
     "output_type": "stream",
     "text": [
      "330000\n",
      "3170000\n"
     ]
    }
   ],
   "source": [
    "print(df.price.min())\n",
    "print(df.price.max())"
   ]
  },
  {
   "cell_type": "code",
   "execution_count": 6,
   "metadata": {},
   "outputs": [],
   "source": [
    "def sigmoid(x):\n",
    "    return 1/(1+np.exp(-x))"
   ]
  },
  {
   "cell_type": "code",
   "execution_count": 7,
   "metadata": {},
   "outputs": [],
   "source": [
    "def sigmoid_der(x):\n",
    "    return x*(1-x)"
   ]
  },
  {
   "cell_type": "code",
   "execution_count": 8,
   "metadata": {},
   "outputs": [],
   "source": [
    "def train_NN(x,y):\n",
    "    weights = np.arange(x.shape[1],dtype=np.float)\n",
    "    weights.fill(0.1)\n",
    "    weights = weights.reshape(x.shape[1],1)\n",
    "    \n",
    "    for iter in range(100000):\n",
    "        l1 = sigmoid(np.dot(x,weights))\n",
    "        err = y - l1\n",
    "        delta = err * sigmoid_der(l1)\n",
    "        weights += np.dot(x.T,delta)\n",
    "        \n",
    "    return weights"
   ]
  },
  {
   "cell_type": "code",
   "execution_count": 9,
   "metadata": {},
   "outputs": [],
   "source": [
    "def predict(vals,weights):\n",
    "    return sigmoid(np.dot(vals,weights))"
   ]
  },
  {
   "cell_type": "markdown",
   "metadata": {},
   "source": [
    "Use MinMaxScalar to transform the dataframe"
   ]
  },
  {
   "cell_type": "code",
   "execution_count": 10,
   "metadata": {},
   "outputs": [],
   "source": [
    "from sklearn.preprocessing import MinMaxScaler\n",
    "sc =  MinMaxScaler()"
   ]
  },
  {
   "cell_type": "code",
   "execution_count": 11,
   "metadata": {},
   "outputs": [],
   "source": [
    "df2 = sc.fit_transform(df)"
   ]
  },
  {
   "cell_type": "code",
   "execution_count": 12,
   "metadata": {},
   "outputs": [
    {
     "data": {
      "text/html": [
       "<div>\n",
       "<style scoped>\n",
       "    .dataframe tbody tr th:only-of-type {\n",
       "        vertical-align: middle;\n",
       "    }\n",
       "\n",
       "    .dataframe tbody tr th {\n",
       "        vertical-align: top;\n",
       "    }\n",
       "\n",
       "    .dataframe thead th {\n",
       "        text-align: right;\n",
       "    }\n",
       "</style>\n",
       "<table border=\"1\" class=\"dataframe\">\n",
       "  <thead>\n",
       "    <tr style=\"text-align: right;\">\n",
       "      <th></th>\n",
       "      <th>area</th>\n",
       "      <th>rooms</th>\n",
       "      <th>floor</th>\n",
       "      <th>elev</th>\n",
       "      <th>parking</th>\n",
       "      <th>price</th>\n",
       "    </tr>\n",
       "  </thead>\n",
       "  <tbody>\n",
       "    <tr>\n",
       "      <td>0</td>\n",
       "      <td>0.872727</td>\n",
       "      <td>0.909091</td>\n",
       "      <td>1.000000</td>\n",
       "      <td>0.0</td>\n",
       "      <td>1.0</td>\n",
       "      <td>0.804930</td>\n",
       "    </tr>\n",
       "    <tr>\n",
       "      <td>1</td>\n",
       "      <td>0.950000</td>\n",
       "      <td>0.909091</td>\n",
       "      <td>0.363636</td>\n",
       "      <td>1.0</td>\n",
       "      <td>1.0</td>\n",
       "      <td>0.910915</td>\n",
       "    </tr>\n",
       "    <tr>\n",
       "      <td>2</td>\n",
       "      <td>0.840909</td>\n",
       "      <td>0.818182</td>\n",
       "      <td>1.000000</td>\n",
       "      <td>1.0</td>\n",
       "      <td>1.0</td>\n",
       "      <td>0.833803</td>\n",
       "    </tr>\n",
       "    <tr>\n",
       "      <td>3</td>\n",
       "      <td>0.050000</td>\n",
       "      <td>0.090909</td>\n",
       "      <td>0.545455</td>\n",
       "      <td>0.0</td>\n",
       "      <td>1.0</td>\n",
       "      <td>0.159859</td>\n",
       "    </tr>\n",
       "    <tr>\n",
       "      <td>4</td>\n",
       "      <td>0.690909</td>\n",
       "      <td>0.727273</td>\n",
       "      <td>0.181818</td>\n",
       "      <td>0.0</td>\n",
       "      <td>0.0</td>\n",
       "      <td>0.614437</td>\n",
       "    </tr>\n",
       "    <tr>\n",
       "      <td>...</td>\n",
       "      <td>...</td>\n",
       "      <td>...</td>\n",
       "      <td>...</td>\n",
       "      <td>...</td>\n",
       "      <td>...</td>\n",
       "      <td>...</td>\n",
       "    </tr>\n",
       "    <tr>\n",
       "      <td>4995</td>\n",
       "      <td>0.413636</td>\n",
       "      <td>0.454545</td>\n",
       "      <td>0.000000</td>\n",
       "      <td>1.0</td>\n",
       "      <td>1.0</td>\n",
       "      <td>0.514085</td>\n",
       "    </tr>\n",
       "    <tr>\n",
       "      <td>4996</td>\n",
       "      <td>0.372727</td>\n",
       "      <td>0.363636</td>\n",
       "      <td>1.000000</td>\n",
       "      <td>0.0</td>\n",
       "      <td>1.0</td>\n",
       "      <td>0.379225</td>\n",
       "    </tr>\n",
       "    <tr>\n",
       "      <td>4997</td>\n",
       "      <td>0.022727</td>\n",
       "      <td>0.000000</td>\n",
       "      <td>0.454545</td>\n",
       "      <td>0.0</td>\n",
       "      <td>0.0</td>\n",
       "      <td>0.051761</td>\n",
       "    </tr>\n",
       "    <tr>\n",
       "      <td>4998</td>\n",
       "      <td>0.354545</td>\n",
       "      <td>0.363636</td>\n",
       "      <td>0.272727</td>\n",
       "      <td>1.0</td>\n",
       "      <td>0.5</td>\n",
       "      <td>0.410915</td>\n",
       "    </tr>\n",
       "    <tr>\n",
       "      <td>4999</td>\n",
       "      <td>0.836364</td>\n",
       "      <td>0.818182</td>\n",
       "      <td>0.000000</td>\n",
       "      <td>0.0</td>\n",
       "      <td>1.0</td>\n",
       "      <td>0.798944</td>\n",
       "    </tr>\n",
       "  </tbody>\n",
       "</table>\n",
       "<p>5000 rows × 6 columns</p>\n",
       "</div>"
      ],
      "text/plain": [
       "          area     rooms     floor  elev  parking     price\n",
       "0     0.872727  0.909091  1.000000   0.0      1.0  0.804930\n",
       "1     0.950000  0.909091  0.363636   1.0      1.0  0.910915\n",
       "2     0.840909  0.818182  1.000000   1.0      1.0  0.833803\n",
       "3     0.050000  0.090909  0.545455   0.0      1.0  0.159859\n",
       "4     0.690909  0.727273  0.181818   0.0      0.0  0.614437\n",
       "...        ...       ...       ...   ...      ...       ...\n",
       "4995  0.413636  0.454545  0.000000   1.0      1.0  0.514085\n",
       "4996  0.372727  0.363636  1.000000   0.0      1.0  0.379225\n",
       "4997  0.022727  0.000000  0.454545   0.0      0.0  0.051761\n",
       "4998  0.354545  0.363636  0.272727   1.0      0.5  0.410915\n",
       "4999  0.836364  0.818182  0.000000   0.0      1.0  0.798944\n",
       "\n",
       "[5000 rows x 6 columns]"
      ]
     },
     "execution_count": 12,
     "metadata": {},
     "output_type": "execute_result"
    }
   ],
   "source": [
    "df2 = pd.DataFrame(df2, columns=df.columns)\n",
    "df2"
   ]
  },
  {
   "cell_type": "code",
   "execution_count": 13,
   "metadata": {},
   "outputs": [],
   "source": [
    "df = df2"
   ]
  },
  {
   "cell_type": "markdown",
   "metadata": {},
   "source": [
    "Split the dataframe to numpy arrays (X,Y) <br>\n",
    "Take only 20 rows"
   ]
  },
  {
   "cell_type": "code",
   "execution_count": 14,
   "metadata": {},
   "outputs": [
    {
     "data": {
      "text/plain": [
       "array([[0.87272727, 0.90909091, 1.        , 0.        , 1.        ],\n",
       "       [0.95      , 0.90909091, 0.36363636, 1.        , 1.        ],\n",
       "       [0.84090909, 0.81818182, 1.        , 1.        , 1.        ],\n",
       "       [0.05      , 0.09090909, 0.54545455, 0.        , 1.        ],\n",
       "       [0.69090909, 0.72727273, 0.18181818, 0.        , 0.        ],\n",
       "       [0.54090909, 0.54545455, 0.81818182, 1.        , 0.5       ],\n",
       "       [0.99545455, 1.        , 0.36363636, 0.        , 0.5       ],\n",
       "       [0.27272727, 0.27272727, 0.90909091, 0.        , 1.        ],\n",
       "       [0.30454545, 0.27272727, 0.72727273, 0.        , 1.        ],\n",
       "       [0.68636364, 0.72727273, 0.54545455, 0.        , 0.        ],\n",
       "       [0.25454545, 0.27272727, 0.54545455, 1.        , 1.        ],\n",
       "       [0.27727273, 0.27272727, 0.36363636, 0.        , 0.5       ],\n",
       "       [0.45909091, 0.45454545, 0.63636364, 1.        , 0.5       ],\n",
       "       [0.40454545, 0.36363636, 0.81818182, 0.        , 0.5       ],\n",
       "       [0.07272727, 0.09090909, 0.27272727, 0.        , 0.5       ],\n",
       "       [0.15      , 0.18181818, 0.45454545, 1.        , 0.5       ],\n",
       "       [0.70909091, 0.72727273, 0.54545455, 0.        , 1.        ],\n",
       "       [0.07272727, 0.09090909, 0.27272727, 1.        , 1.        ],\n",
       "       [0.21363636, 0.18181818, 0.90909091, 1.        , 0.        ],\n",
       "       [0.57272727, 0.54545455, 0.09090909, 0.        , 0.5       ]])"
      ]
     },
     "execution_count": 14,
     "metadata": {},
     "output_type": "execute_result"
    }
   ],
   "source": [
    "x = df.drop(['price'], axis=1).values[ :20, :]\n",
    "x"
   ]
  },
  {
   "cell_type": "code",
   "execution_count": 15,
   "metadata": {},
   "outputs": [
    {
     "data": {
      "text/plain": [
       "array([0.80492958, 0.91091549, 0.83380282, 0.15985915, 0.61443662,\n",
       "       0.57535211, 0.84225352, 0.30669014, 0.34964789, 0.56091549,\n",
       "       0.36408451, 0.26443662, 0.49753521, 0.36619718, 0.11549296,\n",
       "       0.29014085, 0.69929577, 0.23802817, 0.25774648, 0.53908451])"
      ]
     },
     "execution_count": 15,
     "metadata": {},
     "output_type": "execute_result"
    }
   ],
   "source": [
    "y = df['price'].values[ :20]\n",
    "y"
   ]
  },
  {
   "cell_type": "markdown",
   "metadata": {},
   "source": [
    "Train the network and check with predict the first 5 rows"
   ]
  },
  {
   "cell_type": "code",
   "execution_count": 16,
   "metadata": {},
   "outputs": [],
   "source": [
    "w = train_NN(x,y.reshape(-1,1))"
   ]
  },
  {
   "cell_type": "code",
   "execution_count": 17,
   "metadata": {},
   "outputs": [
    {
     "data": {
      "text/plain": [
       "array([[ 7.75204246],\n",
       "       [-5.02303405],\n",
       "       [-1.47248902],\n",
       "       [ 0.04116724],\n",
       "       [-0.44794306]])"
      ]
     },
     "execution_count": 17,
     "metadata": {},
     "output_type": "execute_result"
    }
   ],
   "source": [
    "w"
   ]
  },
  {
   "cell_type": "code",
   "execution_count": 18,
   "metadata": {},
   "outputs": [
    {
     "data": {
      "text/plain": [
       "array([[0.87272727, 0.90909091, 1.        , 0.        , 1.        ],\n",
       "       [0.95      , 0.90909091, 0.36363636, 1.        , 1.        ],\n",
       "       [0.84090909, 0.81818182, 1.        , 1.        , 1.        ],\n",
       "       [0.05      , 0.09090909, 0.54545455, 0.        , 1.        ],\n",
       "       [0.69090909, 0.72727273, 0.18181818, 0.        , 0.        ]])"
      ]
     },
     "execution_count": 18,
     "metadata": {},
     "output_type": "execute_result"
    }
   ],
   "source": [
    "x1 = df.drop(['price'], axis=1).values[ :5, :]\n",
    "x1"
   ]
  },
  {
   "cell_type": "code",
   "execution_count": 19,
   "metadata": {},
   "outputs": [
    {
     "data": {
      "text/plain": [
       "array([[0.56920105],\n",
       "       [0.86480892],\n",
       "       [0.62942317],\n",
       "       [0.2107923 ],\n",
       "       [0.80769714]])"
      ]
     },
     "execution_count": 19,
     "metadata": {},
     "output_type": "execute_result"
    }
   ],
   "source": [
    "predict(x1, w)"
   ]
  },
  {
   "cell_type": "code",
   "execution_count": 20,
   "metadata": {},
   "outputs": [
    {
     "data": {
      "text/plain": [
       "array([0.80492958, 0.91091549, 0.83380282, 0.15985915, 0.61443662])"
      ]
     },
     "execution_count": 20,
     "metadata": {},
     "output_type": "execute_result"
    }
   ],
   "source": [
    "y1 = df['price'].values[ :5]\n",
    "y1"
   ]
  },
  {
   "cell_type": "markdown",
   "metadata": {},
   "source": [
    "Add a bias column with constant value 1 and run the above again"
   ]
  },
  {
   "cell_type": "code",
   "execution_count": 21,
   "metadata": {},
   "outputs": [
    {
     "data": {
      "text/html": [
       "<div>\n",
       "<style scoped>\n",
       "    .dataframe tbody tr th:only-of-type {\n",
       "        vertical-align: middle;\n",
       "    }\n",
       "\n",
       "    .dataframe tbody tr th {\n",
       "        vertical-align: top;\n",
       "    }\n",
       "\n",
       "    .dataframe thead th {\n",
       "        text-align: right;\n",
       "    }\n",
       "</style>\n",
       "<table border=\"1\" class=\"dataframe\">\n",
       "  <thead>\n",
       "    <tr style=\"text-align: right;\">\n",
       "      <th></th>\n",
       "      <th>area</th>\n",
       "      <th>rooms</th>\n",
       "      <th>floor</th>\n",
       "      <th>elev</th>\n",
       "      <th>parking</th>\n",
       "      <th>price</th>\n",
       "      <th>bias</th>\n",
       "    </tr>\n",
       "  </thead>\n",
       "  <tbody>\n",
       "    <tr>\n",
       "      <td>0</td>\n",
       "      <td>0.872727</td>\n",
       "      <td>0.909091</td>\n",
       "      <td>1.000000</td>\n",
       "      <td>0.0</td>\n",
       "      <td>1.0</td>\n",
       "      <td>0.804930</td>\n",
       "      <td>1</td>\n",
       "    </tr>\n",
       "    <tr>\n",
       "      <td>1</td>\n",
       "      <td>0.950000</td>\n",
       "      <td>0.909091</td>\n",
       "      <td>0.363636</td>\n",
       "      <td>1.0</td>\n",
       "      <td>1.0</td>\n",
       "      <td>0.910915</td>\n",
       "      <td>1</td>\n",
       "    </tr>\n",
       "    <tr>\n",
       "      <td>2</td>\n",
       "      <td>0.840909</td>\n",
       "      <td>0.818182</td>\n",
       "      <td>1.000000</td>\n",
       "      <td>1.0</td>\n",
       "      <td>1.0</td>\n",
       "      <td>0.833803</td>\n",
       "      <td>1</td>\n",
       "    </tr>\n",
       "    <tr>\n",
       "      <td>3</td>\n",
       "      <td>0.050000</td>\n",
       "      <td>0.090909</td>\n",
       "      <td>0.545455</td>\n",
       "      <td>0.0</td>\n",
       "      <td>1.0</td>\n",
       "      <td>0.159859</td>\n",
       "      <td>1</td>\n",
       "    </tr>\n",
       "    <tr>\n",
       "      <td>4</td>\n",
       "      <td>0.690909</td>\n",
       "      <td>0.727273</td>\n",
       "      <td>0.181818</td>\n",
       "      <td>0.0</td>\n",
       "      <td>0.0</td>\n",
       "      <td>0.614437</td>\n",
       "      <td>1</td>\n",
       "    </tr>\n",
       "  </tbody>\n",
       "</table>\n",
       "</div>"
      ],
      "text/plain": [
       "       area     rooms     floor  elev  parking     price  bias\n",
       "0  0.872727  0.909091  1.000000   0.0      1.0  0.804930     1\n",
       "1  0.950000  0.909091  0.363636   1.0      1.0  0.910915     1\n",
       "2  0.840909  0.818182  1.000000   1.0      1.0  0.833803     1\n",
       "3  0.050000  0.090909  0.545455   0.0      1.0  0.159859     1\n",
       "4  0.690909  0.727273  0.181818   0.0      0.0  0.614437     1"
      ]
     },
     "execution_count": 21,
     "metadata": {},
     "output_type": "execute_result"
    }
   ],
   "source": [
    "df['bias']=1\n",
    "df.head()"
   ]
  },
  {
   "cell_type": "code",
   "execution_count": 22,
   "metadata": {},
   "outputs": [
    {
     "data": {
      "text/plain": [
       "array([[0.87272727, 0.90909091, 1.        , 0.        , 1.        ,\n",
       "        1.        ],\n",
       "       [0.95      , 0.90909091, 0.36363636, 1.        , 1.        ,\n",
       "        1.        ],\n",
       "       [0.84090909, 0.81818182, 1.        , 1.        , 1.        ,\n",
       "        1.        ],\n",
       "       [0.05      , 0.09090909, 0.54545455, 0.        , 1.        ,\n",
       "        1.        ],\n",
       "       [0.69090909, 0.72727273, 0.18181818, 0.        , 0.        ,\n",
       "        1.        ],\n",
       "       [0.54090909, 0.54545455, 0.81818182, 1.        , 0.5       ,\n",
       "        1.        ],\n",
       "       [0.99545455, 1.        , 0.36363636, 0.        , 0.5       ,\n",
       "        1.        ],\n",
       "       [0.27272727, 0.27272727, 0.90909091, 0.        , 1.        ,\n",
       "        1.        ],\n",
       "       [0.30454545, 0.27272727, 0.72727273, 0.        , 1.        ,\n",
       "        1.        ],\n",
       "       [0.68636364, 0.72727273, 0.54545455, 0.        , 0.        ,\n",
       "        1.        ],\n",
       "       [0.25454545, 0.27272727, 0.54545455, 1.        , 1.        ,\n",
       "        1.        ],\n",
       "       [0.27727273, 0.27272727, 0.36363636, 0.        , 0.5       ,\n",
       "        1.        ],\n",
       "       [0.45909091, 0.45454545, 0.63636364, 1.        , 0.5       ,\n",
       "        1.        ],\n",
       "       [0.40454545, 0.36363636, 0.81818182, 0.        , 0.5       ,\n",
       "        1.        ],\n",
       "       [0.07272727, 0.09090909, 0.27272727, 0.        , 0.5       ,\n",
       "        1.        ],\n",
       "       [0.15      , 0.18181818, 0.45454545, 1.        , 0.5       ,\n",
       "        1.        ],\n",
       "       [0.70909091, 0.72727273, 0.54545455, 0.        , 1.        ,\n",
       "        1.        ],\n",
       "       [0.07272727, 0.09090909, 0.27272727, 1.        , 1.        ,\n",
       "        1.        ],\n",
       "       [0.21363636, 0.18181818, 0.90909091, 1.        , 0.        ,\n",
       "        1.        ],\n",
       "       [0.57272727, 0.54545455, 0.09090909, 0.        , 0.5       ,\n",
       "        1.        ]])"
      ]
     },
     "execution_count": 22,
     "metadata": {},
     "output_type": "execute_result"
    }
   ],
   "source": [
    "x = df.drop(['price'], axis=1).values[ :20, :]\n",
    "x"
   ]
  },
  {
   "cell_type": "code",
   "execution_count": 23,
   "metadata": {},
   "outputs": [
    {
     "data": {
      "text/plain": [
       "array([0.80492958, 0.91091549, 0.83380282, 0.15985915, 0.61443662,\n",
       "       0.57535211, 0.84225352, 0.30669014, 0.34964789, 0.56091549,\n",
       "       0.36408451, 0.26443662, 0.49753521, 0.36619718, 0.11549296,\n",
       "       0.29014085, 0.69929577, 0.23802817, 0.25774648, 0.53908451])"
      ]
     },
     "execution_count": 23,
     "metadata": {},
     "output_type": "execute_result"
    }
   ],
   "source": [
    "y = df['price'].values[ :20]\n",
    "y"
   ]
  },
  {
   "cell_type": "code",
   "execution_count": 24,
   "metadata": {},
   "outputs": [],
   "source": [
    "w = train_NN(x,y.reshape(-1,1))"
   ]
  },
  {
   "cell_type": "code",
   "execution_count": 25,
   "metadata": {},
   "outputs": [
    {
     "data": {
      "text/plain": [
       "array([[ 4.03442213],\n",
       "       [-0.28166808],\n",
       "       [-0.11654035],\n",
       "       [ 0.37937946],\n",
       "       [ 0.42615909],\n",
       "       [-2.18954246]])"
      ]
     },
     "execution_count": 25,
     "metadata": {},
     "output_type": "execute_result"
    }
   ],
   "source": [
    "w"
   ]
  },
  {
   "cell_type": "code",
   "execution_count": 26,
   "metadata": {},
   "outputs": [
    {
     "data": {
      "text/plain": [
       "array([[0.87272727, 0.90909091, 1.        , 0.        , 1.        ,\n",
       "        1.        ],\n",
       "       [0.95      , 0.90909091, 0.36363636, 1.        , 1.        ,\n",
       "        1.        ],\n",
       "       [0.84090909, 0.81818182, 1.        , 1.        , 1.        ,\n",
       "        1.        ],\n",
       "       [0.05      , 0.09090909, 0.54545455, 0.        , 1.        ,\n",
       "        1.        ],\n",
       "       [0.69090909, 0.72727273, 0.18181818, 0.        , 0.        ,\n",
       "        1.        ]])"
      ]
     },
     "execution_count": 26,
     "metadata": {},
     "output_type": "execute_result"
    }
   ],
   "source": [
    "x1 = df.drop(['price'], axis=1).values[ :5, :]\n",
    "x1"
   ]
  },
  {
   "cell_type": "code",
   "execution_count": 27,
   "metadata": {},
   "outputs": [
    {
     "data": {
      "text/plain": [
       "array([[0.79978716],\n",
       "       [0.89569278],\n",
       "       [0.84045029],\n",
       "       [0.16099601],\n",
       "       [0.59190298]])"
      ]
     },
     "execution_count": 27,
     "metadata": {},
     "output_type": "execute_result"
    }
   ],
   "source": [
    "predict(x1, w)"
   ]
  },
  {
   "cell_type": "code",
   "execution_count": 28,
   "metadata": {},
   "outputs": [
    {
     "data": {
      "text/plain": [
       "array([0.80492958, 0.91091549, 0.83380282, 0.15985915, 0.61443662])"
      ]
     },
     "execution_count": 28,
     "metadata": {},
     "output_type": "execute_result"
    }
   ],
   "source": [
    "y1 = df['price'].values[ :5]\n",
    "y1"
   ]
  },
  {
   "cell_type": "markdown",
   "metadata": {},
   "source": [
    "Change the training set size to 200 and run all again"
   ]
  },
  {
   "cell_type": "code",
   "execution_count": 29,
   "metadata": {},
   "outputs": [],
   "source": [
    "x = df.drop(['price'], axis=1).values[ :200, :]\n",
    "y = df['price'].values[ :200]\n",
    "w = train_NN(x,y.reshape(-1,1))"
   ]
  },
  {
   "cell_type": "code",
   "execution_count": 30,
   "metadata": {},
   "outputs": [
    {
     "data": {
      "text/plain": [
       "array([[ 6.98976186],\n",
       "       [ 4.58652231],\n",
       "       [-0.70423316],\n",
       "       [ 0.87050448],\n",
       "       [ 0.8729733 ],\n",
       "       [-8.56076463]])"
      ]
     },
     "execution_count": 30,
     "metadata": {},
     "output_type": "execute_result"
    }
   ],
   "source": [
    "w"
   ]
  },
  {
   "cell_type": "markdown",
   "metadata": {},
   "source": [
    "Predict 10 rows (index 40 to 49) from the dataframe and check the result  "
   ]
  },
  {
   "cell_type": "code",
   "execution_count": 31,
   "metadata": {},
   "outputs": [
    {
     "data": {
      "text/plain": [
       "array([0.78697183, 0.11373239, 0.6943662 , 0.22112676, 0.73802817,\n",
       "       0.75387324, 0.4834507 , 0.82359155, 0.9084507 , 0.52957746])"
      ]
     },
     "execution_count": 31,
     "metadata": {},
     "output_type": "execute_result"
    }
   ],
   "source": [
    "df['price'].values[40:50]"
   ]
  },
  {
   "cell_type": "code",
   "execution_count": 32,
   "metadata": {},
   "outputs": [
    {
     "data": {
      "text/plain": [
       "array([[9.27418156e-01],\n",
       "       [3.25501829e-04],\n",
       "       [6.79380559e-01],\n",
       "       [1.78158158e-03],\n",
       "       [7.77043139e-01],\n",
       "       [7.82742914e-01],\n",
       "       [5.73612220e-02],\n",
       "       [9.21549491e-01],\n",
       "       [9.80306327e-01],\n",
       "       [8.01747907e-02]])"
      ]
     },
     "execution_count": 32,
     "metadata": {},
     "output_type": "execute_result"
    }
   ],
   "source": [
    "predict(df.drop(['price'], axis=1).values[40:50] , w )"
   ]
  }
 ],
 "metadata": {
  "kernelspec": {
   "display_name": "Python 3",
   "language": "python",
   "name": "python3"
  },
  "language_info": {
   "codemirror_mode": {
    "name": "ipython",
    "version": 3
   },
   "file_extension": ".py",
   "mimetype": "text/x-python",
   "name": "python",
   "nbconvert_exporter": "python",
   "pygments_lexer": "ipython3",
   "version": "3.7.4"
  }
 },
 "nbformat": 4,
 "nbformat_minor": 2
}
